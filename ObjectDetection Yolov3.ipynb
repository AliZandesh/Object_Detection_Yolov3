{
 "cells": [
  {
   "cell_type": "code",
   "execution_count": 43,
   "id": "163deea3",
   "metadata": {},
   "outputs": [],
   "source": [
    "from imageai.Detection import ObjectDetection\n",
    "import os"
   ]
  },
  {
   "cell_type": "code",
   "execution_count": 44,
   "id": "0babdfff",
   "metadata": {},
   "outputs": [],
   "source": [
    "execution_path = os.getcwd()"
   ]
  },
  {
   "cell_type": "code",
   "execution_count": 45,
   "id": "875af927",
   "metadata": {},
   "outputs": [],
   "source": [
    "detector = ObjectDetection()\n",
    "detector.setModelTypeAsYOLOv3()\n",
    "detector.setModelPath( os.path.join(execution_path , \"yolov3.pt\"))"
   ]
  },
  {
   "cell_type": "code",
   "execution_count": 46,
   "id": "6d9b565a",
   "metadata": {},
   "outputs": [],
   "source": [
    "detector.loadModel()"
   ]
  },
  {
   "cell_type": "code",
   "execution_count": 47,
   "id": "0d9c0290",
   "metadata": {},
   "outputs": [],
   "source": [
    "detections = detector.detectObjectsFromImage(input_image=os.path.join(execution_path , \"image1.jpg\"), output_image_path=os.path.join(execution_path , \"image1newe.jpg\"))\n"
   ]
  },
  {
   "cell_type": "code",
   "execution_count": 48,
   "id": "a5274d96",
   "metadata": {},
   "outputs": [],
   "source": [
    "# for eachObject in detections:\n",
    "#     print(eachObject[\"name\"] , \" : \", eachObject[\"percentage_probability\"], \" : \", eachObject[\"box_points\"] )\n",
    "#     print(\"--------------------------------\")"
   ]
  },
  {
   "cell_type": "code",
   "execution_count": 53,
   "id": "3f1cdc0d",
   "metadata": {},
   "outputs": [],
   "source": [
    "custom = detector.CustomObjects(car=True, person=True)"
   ]
  },
  {
   "cell_type": "code",
   "execution_count": 59,
   "id": "f64d6aa7",
   "metadata": {},
   "outputs": [],
   "source": [
    "custom_detections = detector.detectObjectsFromImage(custom_objects=custom , input_image=os.path.join(execution_path , \"image2.png\"), output_image_path=os.path.join(execution_path , \"image2custom.png\"), minimum_percentage_probability=90)\n"
   ]
  },
  {
   "cell_type": "code",
   "execution_count": 56,
   "id": "0dc4916a",
   "metadata": {},
   "outputs": [
    {
     "data": {
      "text/plain": [
       "[{'name': 'car',\n",
       "  'percentage_probability': 99.89,\n",
       "  'box_points': [283, 210, 344, 255]},\n",
       " {'name': 'car',\n",
       "  'percentage_probability': 98.46,\n",
       "  'box_points': [169, 199, 245, 260]},\n",
       " {'name': 'car',\n",
       "  'percentage_probability': 99.6,\n",
       "  'box_points': [0, 217, 68, 283]},\n",
       " {'name': 'car',\n",
       "  'percentage_probability': 85.1,\n",
       "  'box_points': [359, 195, 424, 243]},\n",
       " {'name': 'car',\n",
       "  'percentage_probability': 98.03,\n",
       "  'box_points': [71, 200, 121, 238]},\n",
       " {'name': 'car',\n",
       "  'percentage_probability': 99.58,\n",
       "  'box_points': [336, 200, 366, 228]},\n",
       " {'name': 'car',\n",
       "  'percentage_probability': 70.0,\n",
       "  'box_points': [253, 188, 290, 222]},\n",
       " {'name': 'car',\n",
       "  'percentage_probability': 98.27,\n",
       "  'box_points': [29, 197, 71, 230]},\n",
       " {'name': 'car',\n",
       "  'percentage_probability': 53.96,\n",
       "  'box_points': [113, 186, 145, 223]},\n",
       " {'name': 'car',\n",
       "  'percentage_probability': 80.27,\n",
       "  'box_points': [146, 187, 173, 211]},\n",
       " {'name': 'car',\n",
       "  'percentage_probability': 96.24,\n",
       "  'box_points': [239, 190, 258, 214]},\n",
       " {'name': 'car',\n",
       "  'percentage_probability': 99.36,\n",
       "  'box_points': [314, 199, 342, 212]},\n",
       " {'name': 'car',\n",
       "  'percentage_probability': 96.62,\n",
       "  'box_points': [289, 196, 318, 215]},\n",
       " {'name': 'car',\n",
       "  'percentage_probability': 94.22,\n",
       "  'box_points': [175, 188, 189, 201]},\n",
       " {'name': 'car',\n",
       "  'percentage_probability': 70.11,\n",
       "  'box_points': [0, 190, 16, 219]}]"
      ]
     },
     "execution_count": 56,
     "metadata": {},
     "output_type": "execute_result"
    }
   ],
   "source": [
    "custom_detections"
   ]
  },
  {
   "cell_type": "code",
   "execution_count": 60,
   "id": "f323e83c",
   "metadata": {},
   "outputs": [
    {
     "data": {
      "text/plain": [
       "10"
      ]
     },
     "execution_count": 60,
     "metadata": {},
     "output_type": "execute_result"
    }
   ],
   "source": [
    "len(custom_detections)"
   ]
  },
  {
   "cell_type": "code",
   "execution_count": null,
   "id": "08170d05",
   "metadata": {},
   "outputs": [],
   "source": []
  }
 ],
 "metadata": {
  "kernelspec": {
   "display_name": "Python 3 (ipykernel)",
   "language": "python",
   "name": "python3"
  },
  "language_info": {
   "codemirror_mode": {
    "name": "ipython",
    "version": 3
   },
   "file_extension": ".py",
   "mimetype": "text/x-python",
   "name": "python",
   "nbconvert_exporter": "python",
   "pygments_lexer": "ipython3",
   "version": "3.10.2"
  }
 },
 "nbformat": 4,
 "nbformat_minor": 5
}
